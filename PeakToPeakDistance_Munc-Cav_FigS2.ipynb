{
 "cells": [
  {
   "cell_type": "markdown",
   "metadata": {},
   "source": [
    "# Notebook to pool lineprofiles, calculate peak distance and plot Histograms"
   ]
  },
  {
   "cell_type": "code",
   "execution_count": 1,
   "metadata": {},
   "outputs": [],
   "source": [
    "import pandas as pd\n",
    "import numpy as np\n",
    "import matplotlib.pyplot as plt\n",
    "from tifffile import imsave\n",
    "from scipy import signal\n",
    "from scipy import misc\n",
    "import scipy.fftpack\n",
    "from scipy import stats\n",
    "from scipy import signal\n",
    "import os"
   ]
  },
  {
   "cell_type": "markdown",
   "metadata": {},
   "source": [
    "## Define Path and Files"
   ]
  },
  {
   "cell_type": "code",
   "execution_count": 6,
   "metadata": {
    "scrolled": true
   },
   "outputs": [],
   "source": [
    "path=r\"enter folder path here\" # enter path to parent folder. data for sigle experiments is stored in subfolders, e.g. N=3 --> 3 subfolders\n",
    "\n",
    "\n",
    "folders=os.listdir(path)\n",
    "\n",
    "allfiles=[]\n",
    "folderlist=[]\n",
    "files=[]\n",
    "for i in folders:\n",
    "    \n",
    "    tmp=os.listdir(path+i)\n",
    "    for f in tmp:\n",
    "        if (\".csv\" in f)==True: \n",
    "            files=files+[f]\n",
    "            folderlist=folderlist+[i]\n",
    "allfiles=pd.DataFrame([folderlist,files]).T\n",
    "allfiles.columns=[\"folder\",\"file\"]"
   ]
  },
  {
   "cell_type": "markdown",
   "metadata": {},
   "source": [
    "# define splitting function"
   ]
  },
  {
   "cell_type": "code",
   "execution_count": 7,
   "metadata": {},
   "outputs": [],
   "source": [
    "def split(matrix,identifyer,axis):\n",
    "    splitted=matrix.filter(like=identifyer,axis=axis)\n",
    "    return splitted"
   ]
  },
  {
   "cell_type": "markdown",
   "metadata": {},
   "source": [
    "# define binning function"
   ]
  },
  {
   "cell_type": "code",
   "execution_count": 8,
   "metadata": {},
   "outputs": [],
   "source": [
    "from scipy.stats import binned_statistic\n",
    "\n",
    "def binData(inData,firstcol,lastcol,minbin,maxbin,nbins):\n",
    "    myArray=inData.as_matrix()\n",
    "    \n",
    "    numrows = len(myArray)\n",
    "    numcols = len(myArray[0]) #[0] for cols. otherwise rows\n",
    "    if (lastcol==\"max\"):\n",
    "        lastcol=numcols\n",
    "\n",
    "    for j in range(firstcol, lastcol):\n",
    "       \n",
    "\n",
    "        data = myArray[:,j]\n",
    "        bin_means = binned_statistic(data, data, statistic=\"count\", bins=nbins, range=(minbin, maxbin))[0]\n",
    "        bin_edges= binned_statistic(data, data, statistic='count', bins=nbins, range=(minbin, maxbin))[1]\n",
    "        binnumber= binned_statistic(data, data, statistic='count', bins=nbins, range=(minbin, maxbin))[2]\n",
    "        bin_middle=bin_edges[0:len(bin_edges)-1]+((maxbin-minbin)/nbins/2)\n",
    "\n",
    "        bin_means = np.nan_to_num(bin_means)\n",
    "        bin_means=bin_means.tolist()       \n",
    "        \n",
    "        if (j==0):\n",
    "            allbins = np.vstack((bin_middle, bin_means))\n",
    "        else:\n",
    "            allbins = np.vstack((allbins, bin_means))\n",
    "        \n",
    "    allbins=allbins.T\n",
    "    \n",
    "\n",
    "    \n",
    "    matrix=pd.DataFrame(allbins).set_index(0)\n",
    "    matrix.columns=inData.columns[firstcol:lastcol]\n",
    "   \n",
    "\n",
    "    \n",
    "\n",
    "    return(matrix)\n",
    "\n"
   ]
  },
  {
   "cell_type": "markdown",
   "metadata": {},
   "source": [
    "# Find Local Maxima"
   ]
  },
  {
   "cell_type": "code",
   "execution_count": null,
   "metadata": {
    "scrolled": true
   },
   "outputs": [],
   "source": [
    "distances=[]\n",
    "foldercolumn=[]\n",
    "filecolumn=[]\n",
    "profilenumbercolumn=[]\n",
    "fused=[]\n",
    "\n",
    "counter=0\n",
    "\n",
    "Y0traces=[]\n",
    "Y1traces=[]\n",
    "\n",
    "Y0maxima=[]\n",
    "Y1maxima=[]\n",
    "\n",
    "for j in range(0,len(allfiles[\"folder\"])):\n",
    "\n",
    "    name=path+allfiles[\"folder\"]+\"\\\\\"+allfiles[\"file\"]\n",
    "    matrix=pd.read_csv(name[j])\n",
    "    matrixY=split(matrix,\"Y\",1)\n",
    "\n",
    "\n",
    "    fig=plt.figure()\n",
    "    for i in range(0,matrixY.shape[1]): \n",
    "\n",
    "        trace=matrixY.T.values[i]\n",
    "        smoothed=scipy.ndimage.gaussian_filter(trace, 0, mode='reflect')        \n",
    "        \n",
    "        \n",
    "        maxima=np.array(signal.argrelmax(smoothed,mode='clip'))#calculate maxima\n",
    "\n",
    "\n",
    "            \n",
    "        \n",
    "        \n",
    "        \n",
    "        ########REMOVE SMALL PEAKS###################\n",
    "        filtered=[]\n",
    "        for k in maxima[0]:\n",
    "            window=30\n",
    "            delta=5\n",
    "            tmp=np.arange(k-window,k+window)\n",
    "            tmp=tmp[tmp>=0]\n",
    "            tmp=tmp[tmp<len(trace)]\n",
    "  \n",
    "            minI=np.min(trace[tmp])#calculate minimum intensity in window\n",
    "            if ((trace[k]>delta+minI) == True) :\n",
    "                filtered=filtered+[k]\n",
    "        maxima=np.array([filtered])\n",
    "        \n",
    "        if(i==0):\n",
    "            print(0)\n",
    "            Y0traces=Y0traces+[trace.tolist()]\n",
    "            Y0maxima=Y0maxima+maxima.tolist()\n",
    "        if(i==1):\n",
    "            print(1)\n",
    "            Y1traces=Y1traces+[trace.tolist()]\n",
    "            Y1maxima=Y1maxima+maxima.tolist()\n",
    "        \n",
    "        \n",
    "        ##########PLOT EVERYTHING#######################      \n",
    "        try:\n",
    "            plt.scatter(maxima,trace[maxima[0]], s=600, c='red', marker='x')\n",
    "        except:\n",
    "            pass\n",
    "\n",
    "        plt.plot(trace)\n",
    "        plt.plot(smoothed)\n",
    "        plt.title(name[j])\n",
    "        plt.xlabel('pixels')\n",
    "        plt.ylabel('intensity')     \n",
    "\n",
    "        parent, child = os.path.split(path.strip(\"\\\\\"))\n",
    "        newPath=parent+\"/analysis/\"+\"/singleTrace/\"\n",
    "        if (os.path.exists(newPath)==False):\n",
    "            os.makedirs(newPath)\n",
    "        \n",
    "        \n",
    "        if (len(maxima)>1):\n",
    "            zwerg=maxima[1]-maxima[0]\n",
    "        else:zwerg=\"NaN\"\n",
    "            \n",
    "        \n",
    "        \n",
    "        \n",
    "\n",
    "        \n",
    "        \n",
    "        counter=counter+1\n",
    "    plt.show()\n",
    "    foldercolumn=foldercolumn+[allfiles[\"folder\"][j]]\n",
    "    filecolumn=filecolumn+[allfiles[\"file\"][j]]\n",
    "    fused=fused+[allfiles[\"file\"][j]+allfiles[\"folder\"][j]]\n",
    "    fig.savefig(newPath+allfiles[\"folder\"][j]+allfiles[\"file\"][j]+str(round(i))+\".png\")"
   ]
  },
  {
   "cell_type": "markdown",
   "metadata": {},
   "source": [
    "# Calculate Distance from highest peaks"
   ]
  },
  {
   "cell_type": "code",
   "execution_count": 10,
   "metadata": {},
   "outputs": [],
   "source": [
    "highestY0max=pd.DataFrame(Y0maxima).T.max().tolist()\n",
    "highestY1max=pd.DataFrame(Y1maxima).T.max().tolist()\n",
    "\n",
    "distances=abs(np.subtract(highestY0max,highestY1max)).tolist()\n",
    "pixsize=0.025\n",
    "umdistances=np.array(distances)*pixsize"
   ]
  },
  {
   "cell_type": "markdown",
   "metadata": {},
   "source": [
    "# Extract Genotype from Names, calculate distance in µm and assemble dataframe"
   ]
  },
  {
   "cell_type": "code",
   "execution_count": 11,
   "metadata": {},
   "outputs": [],
   "source": [
    "genotype=[]\n",
    "for i in range(0,len(fused)):\n",
    "    if (\"20180302_1\" in fused[i]\n",
    "       or \"20180328_8\" in fused[i]\n",
    "        or \"20180328_15\" in fused[i]\n",
    "        or \"20180328_18\" in fused[i]\n",
    "        or \"20180328_12\" in fused[i]\n",
    "        or \"20180419_19\" in fused[i]\n",
    "        or \"20180419_24\" in fused[i]\n",
    "        or \"20180419_436\" in fused[i]\n",
    "       \n",
    "       \n",
    "       ):\n",
    "        #print(fused[i])\n",
    "        genotype=genotype+[\"WT\"]\n",
    "    elif (\"20180302_2\" in fused[i]\n",
    "        or \"20180302_4\" in fused[i]\n",
    "        or \"20180302_6\" in fused[i]  \n",
    "          or \"20180328_14\" in fused[i]\n",
    "          or \"20180328_16\" in fused[i]\n",
    "          or \"20180328_17\" in fused[i]\n",
    "       ):\n",
    "        genotype=genotype+[\"KO\"]\n",
    "        \n",
    "    else:\n",
    "        genotype=genotype+[\"notSpecified\"]\n"
   ]
  },
  {
   "cell_type": "code",
   "execution_count": 12,
   "metadata": {
    "scrolled": true
   },
   "outputs": [
    {
     "data": {
      "text/html": [
       "<div>\n",
       "<style scoped>\n",
       "    .dataframe tbody tr th:only-of-type {\n",
       "        vertical-align: middle;\n",
       "    }\n",
       "\n",
       "    .dataframe tbody tr th {\n",
       "        vertical-align: top;\n",
       "    }\n",
       "\n",
       "    .dataframe thead th {\n",
       "        text-align: right;\n",
       "    }\n",
       "</style>\n",
       "<table border=\"1\" class=\"dataframe\">\n",
       "  <thead>\n",
       "    <tr style=\"text-align: right;\">\n",
       "      <th></th>\n",
       "      <th>title</th>\n",
       "      <th>genotype</th>\n",
       "      <th>cross-channel distance (pixels)</th>\n",
       "      <th>cross-channel distance (µm)</th>\n",
       "    </tr>\n",
       "    <tr>\n",
       "      <th>folder</th>\n",
       "      <th></th>\n",
       "      <th></th>\n",
       "      <th></th>\n",
       "      <th></th>\n",
       "    </tr>\n",
       "  </thead>\n",
       "  <tbody>\n",
       "    <tr>\n",
       "      <th>Values_20180302_1</th>\n",
       "      <td>Values_20180302_1_002_1.csv</td>\n",
       "      <td>WT</td>\n",
       "      <td>4</td>\n",
       "      <td>0.1</td>\n",
       "    </tr>\n",
       "    <tr>\n",
       "      <th>Values_20180302_1</th>\n",
       "      <td>Values_20180302_1_002_2.csv</td>\n",
       "      <td>WT</td>\n",
       "      <td>3</td>\n",
       "      <td>0.075</td>\n",
       "    </tr>\n",
       "    <tr>\n",
       "      <th>Values_20180302_1</th>\n",
       "      <td>Values_20180302_1_002_3.csv</td>\n",
       "      <td>WT</td>\n",
       "      <td>3</td>\n",
       "      <td>0.075</td>\n",
       "    </tr>\n",
       "    <tr>\n",
       "      <th>Values_20180302_1</th>\n",
       "      <td>Values_20180302_1_002_4.csv</td>\n",
       "      <td>WT</td>\n",
       "      <td>6</td>\n",
       "      <td>0.15</td>\n",
       "    </tr>\n",
       "    <tr>\n",
       "      <th>Values_20180302_1</th>\n",
       "      <td>Values_20180302_1_002_5.csv</td>\n",
       "      <td>WT</td>\n",
       "      <td>4</td>\n",
       "      <td>0.1</td>\n",
       "    </tr>\n",
       "  </tbody>\n",
       "</table>\n",
       "</div>"
      ],
      "text/plain": [
       "                                         title genotype  \\\n",
       "folder                                                    \n",
       "Values_20180302_1  Values_20180302_1_002_1.csv       WT   \n",
       "Values_20180302_1  Values_20180302_1_002_2.csv       WT   \n",
       "Values_20180302_1  Values_20180302_1_002_3.csv       WT   \n",
       "Values_20180302_1  Values_20180302_1_002_4.csv       WT   \n",
       "Values_20180302_1  Values_20180302_1_002_5.csv       WT   \n",
       "\n",
       "                  cross-channel distance (pixels) cross-channel distance (µm)  \n",
       "folder                                                                         \n",
       "Values_20180302_1                               4                         0.1  \n",
       "Values_20180302_1                               3                       0.075  \n",
       "Values_20180302_1                               3                       0.075  \n",
       "Values_20180302_1                               6                        0.15  \n",
       "Values_20180302_1                               4                         0.1  "
      ]
     },
     "execution_count": 12,
     "metadata": {},
     "output_type": "execute_result"
    }
   ],
   "source": [
    "output=pd.DataFrame([foldercolumn,\n",
    "                     filecolumn,\n",
    "                     genotype,\n",
    "                     distances,\n",
    "                     umdistances.tolist()]).T\n",
    "\n",
    "\n",
    "output.columns=[\"folder\",\n",
    "                \"title\",\n",
    "                \"genotype\",\n",
    "                \"cross-channel distance (pixels)\",\n",
    "                \"cross-channel distance (µm)\", \n",
    "                ]\n",
    "\n",
    "#output.index.values=matrix[\"X0\"].values\n",
    "output.to_csv(parent+\"\\\\measurements.xls\",sep=\"\\t\")\n",
    "output.set_index(\"folder\", inplace=True)\n",
    "output.head()"
   ]
  },
  {
   "cell_type": "markdown",
   "metadata": {},
   "source": [
    "# Divide Dataset into WT vs KO"
   ]
  },
  {
   "cell_type": "code",
   "execution_count": 33,
   "metadata": {},
   "outputs": [
    {
     "data": {
      "image/png": "[encoded data removed]",
      "text/plain": [
       "<matplotlib.figure.Figure at 0xba84a20>"
      ]
     },
     "metadata": {},
     "output_type": "display_data"
    }
   ],
   "source": [
    "tmp=output\n",
    "WT=tmp[output[\"genotype\"]==\"WT\"]\n",
    "KO=tmp[output[\"genotype\"]==\"KO\"]\n",
    "\n",
    "bins=np.linspace(0,0.2,10)\n",
    "fig=plt.figure()\n",
    "WT[\"cross-channel distance (µm)\"].hist(color=\"black\", alpha=0.5, hatch=\"+-\", label =\"WT\", bins=bins,normed=True)\n",
    "KO[\"cross-channel distance (µm)\"].hist(color=\"red\", alpha=0.4, hatch=\"/\", edgecolor=\"black\" ,label=\"KO\",bins=bins,normed=True)\n",
    "plt.title(\"cross-channel distance (µm)\")\n",
    "plt.legend(bbox_to_anchor=(1, 1), loc=1, borderaxespad=0.)\n",
    "plt.xlabel('cross-channel distance (µm)')\n",
    "plt.ylabel('Normalized Counts')\n",
    "plt.show()\n",
    "fig.savefig(parent+\"\\\\cross-channel distance (µm).png\")\n",
    "fig.savefig(parent+\"\\\\cross-channel distance (µm).eps\", format='eps')\n",
    "fig.savefig(parent+\"\\\\cross-channel distance (µm).pdf\", format='pdf')"
   ]
  },
  {
   "cell_type": "code",
   "execution_count": 14,
   "metadata": {},
   "outputs": [],
   "source": [
    "mice=list(set(output.index))\n",
    "\n",
    "distance_means=[]\n",
    "\n",
    "for i in range (0,len(mice)):\n",
    "\n",
    "    tmp=output.loc[mice[i]]\n",
    "\n",
    "    distance_means=distance_means+[np.mean(tmp[\"cross-channel distance (µm)\"])]\n"
   ]
  },
  {
   "cell_type": "code",
   "execution_count": 15,
   "metadata": {},
   "outputs": [
    {
     "name": "stderr",
     "output_type": "stream",
     "text": [
      "C:\\Niclas_Programme\\Miniconda\\lib\\site-packages\\ipykernel_launcher.py:4: FutureWarning: Method .as_matrix will be removed in a future version. Use .values instead.\n",
      "  after removing the cwd from sys.path.\n"
     ]
    }
   ],
   "source": [
    "#resort the data\n",
    "\n",
    "mice=list(set(output.index))\n",
    "\n",
    "umdistance_means=[]\n",
    "all_umdistances=[]\n",
    "\n",
    "for i in range (0,len(mice)):\n",
    "\n",
    "    tmp=output.loc[mice[i]]\n",
    "    umdistance_means=umdistance_means+[np.mean(tmp[\"cross-channel distance (µm)\"])]\n",
    "    all_umdistances=all_umdistances+[tmp[\"cross-channel distance (µm)\"].values]\n",
    "\n",
    "   \n",
    "\n",
    "    \n",
    "#save all means\n",
    "allMeans=pd.DataFrame([umdistance_means])\n",
    "allMeans.columns=mice\n",
    "allMeans.index=[\"distance_means (µm)\"]\n",
    "allMeans.T.to_csv(parent+\"\\\\Means.xls\",sep=\"\\t\")\n",
    "\n",
    "    \n",
    "\n",
    "\n",
    "# bin and save binned data\n",
    "tmp=pd.DataFrame(all_umdistances).T\n",
    "tmp.columns=mice\n",
    "binnedDistances=binData(tmp,0,\"max\",0,0.2,10)\n",
    "binnedDistances.to_csv(parent+\"\\\\binnedDistances.xls\",sep=\"\\t\")"
   ]
  }
 ],
 "metadata": {
  "kernelspec": {
   "display_name": "Python 3",
   "language": "python",
   "name": "python3"
  },
  "language_info": {
   "codemirror_mode": {
    "name": "ipython",
    "version": 3
   },
   "file_extension": ".py",
   "mimetype": "text/x-python",
   "name": "python",
   "nbconvert_exporter": "python",
   "pygments_lexer": "ipython3",
   "version": "3.5.6"
  }
 },
 "nbformat": 4,
 "nbformat_minor": 2
}
