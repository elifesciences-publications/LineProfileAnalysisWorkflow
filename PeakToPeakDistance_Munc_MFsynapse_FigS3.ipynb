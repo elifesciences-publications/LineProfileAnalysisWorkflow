{
 "cells": [
  {
   "cell_type": "markdown",
   "metadata": {},
   "source": [
    "# Notebook to pool lineprofiles, calculate peak distance and plot Histograms"
   ]
  },
  {
   "cell_type": "code",
   "execution_count": 1,
   "metadata": {},
   "outputs": [],
   "source": [
    "import pandas as pd\n",
    "import numpy as np\n",
    "import matplotlib.pyplot as plt\n",
    "from tifffile import imsave\n",
    "from scipy import signal\n",
    "from scipy import misc\n",
    "import scipy.fftpack\n",
    "from scipy import stats\n",
    "from scipy import signal\n",
    "import os"
   ]
  },
  {
   "cell_type": "markdown",
   "metadata": {},
   "source": [
    "## Define Path and Files"
   ]
  },
  {
   "cell_type": "code",
   "execution_count": 2,
   "metadata": {
    "scrolled": true
   },
   "outputs": [],
   "source": [
    "path=r\"enter folder path here\" # enter path to parent folder. data for sigle experiments is stored in subfolders, e.g. N=3 --> 3 subfolders\n",
    "\n",
    "\n",
    "folders=os.listdir(path)\n",
    "\n",
    "allfiles=[]\n",
    "folderlist=[]\n",
    "files=[]\n",
    "for i in folders:\n",
    "    \n",
    "    tmp=os.listdir(path+i)\n",
    "    for f in tmp:\n",
    "        if (\".csv\" in f)==True: \n",
    "            files=files+[f]\n",
    "            folderlist=folderlist+[i]\n",
    "allfiles=pd.DataFrame([folderlist,files]).T\n",
    "allfiles.columns=[\"folder\",\"file\"]"
   ]
  },
  {
   "cell_type": "markdown",
   "metadata": {},
   "source": [
    "# define splitting function"
   ]
  },
  {
   "cell_type": "code",
   "execution_count": 3,
   "metadata": {},
   "outputs": [],
   "source": [
    "def split(matrix,identifyer,axis):\n",
    "    splitted=matrix.filter(like=identifyer,axis=axis)\n",
    "    return splitted"
   ]
  },
  {
   "cell_type": "markdown",
   "metadata": {},
   "source": [
    "## Find Maxima"
   ]
  },
  {
   "cell_type": "code",
   "execution_count": null,
   "metadata": {
    "scrolled": true
   },
   "outputs": [],
   "source": [
    "distances=[]\n",
    "foldercolumn=[]\n",
    "filecolumn=[]\n",
    "profilenumbercolumn=[]\n",
    "fused=[]\n",
    "\n",
    "counter=0\n",
    "for j in range(0,len(allfiles[\"folder\"])):\n",
    "\n",
    "    name=path+allfiles[\"folder\"]+\"\\\\\"+allfiles[\"file\"]\n",
    "    matrix=pd.read_csv(name[j])\n",
    "    matrixY=split(matrix,\"Y0\",1)\n",
    "\n",
    "\n",
    "    for i in range(0,matrixY.shape[1]):    \n",
    "        trace=matrixY.T.values[i]\n",
    "        maxima=np.array(signal.argrelmax(trace))[0]\n",
    "        fig=plt.figure()\n",
    "        if (len(maxima)>1):\n",
    "            plt.scatter(maxima[0],trace[maxima[0]], s=600, c='red', marker='x')\n",
    "            plt.scatter(maxima[1],trace[maxima[1]], s=600, c='red', marker='x') \n",
    "        plt.plot(trace)\n",
    "        plt.title(name[j])\n",
    "        plt.xlabel('pixels')\n",
    "        plt.ylabel('intensity')\n",
    "        plt.show()\n",
    "        \n",
    "        parent, child = os.path.split(path.strip(\"\\\\\"))\n",
    "        newPath=parent+\"/analysis/\"+\"/singleTrace/\"\n",
    "        if (os.path.exists(newPath)==False):\n",
    "            os.makedirs(newPath)\n",
    "        fig.savefig(newPath+allfiles[\"folder\"][j]+allfiles[\"file\"][j]+str(round(i))+\".png\")\n",
    "        if (len(maxima)>1):\n",
    "            zwerg=maxima[1]-maxima[0]\n",
    "        else:zwerg=\"NaN\"\n",
    "        distances=distances+[zwerg]\n",
    "        foldercolumn=foldercolumn+[allfiles[\"folder\"][j]]\n",
    "        filecolumn=filecolumn+[allfiles[\"file\"][j]]\n",
    "        profilenumbercolumn=profilenumbercolumn+[i]\n",
    "        fused=fused+[allfiles[\"file\"][j]+allfiles[\"folder\"][j]]\n",
    "        \n",
    "        counter=counter+1"
   ]
  },
  {
   "cell_type": "markdown",
   "metadata": {},
   "source": [
    "# Extract Genotype from Names, calculate distance in µm and assemble dataframe"
   ]
  },
  {
   "cell_type": "code",
   "execution_count": 7,
   "metadata": {},
   "outputs": [],
   "source": [
    "genotype=[]\n",
    "for i in range(0,len(distances)):\n",
    "    if (\"_1_\" in fused[i]\n",
    "        or \"_3_\" in fused[i]\n",
    "        \n",
    "        or \"_7_\" in fused[i]\n",
    "        or \"_10_\" in fused[i]\n",
    "        or \"_12_\" in fused[i]\n",
    "        or \"_18_\" in fused[i]\n",
    "       ):\n",
    "        #print(fused[i])\n",
    "        genotype=genotype+[\"WT\"]\n",
    "    if (\"_2_\" in fused[i]\n",
    "        or \"_4_\" in fused[i]\n",
    "        or \"_6_\" in fused[i]\n",
    "        \n",
    "        or \"_9_\" in fused[i]\n",
    "        or \"_11_\" in fused[i]\n",
    "        or \"_408_\" in fused[i]\n",
    "       ):      \n",
    "        genotype=genotype+[\"KO\"]"
   ]
  },
  {
   "cell_type": "code",
   "execution_count": 8,
   "metadata": {
    "scrolled": true
   },
   "outputs": [
    {
     "data": {
      "text/html": [
       "<div>\n",
       "<style scoped>\n",
       "    .dataframe tbody tr th:only-of-type {\n",
       "        vertical-align: middle;\n",
       "    }\n",
       "\n",
       "    .dataframe tbody tr th {\n",
       "        vertical-align: top;\n",
       "    }\n",
       "\n",
       "    .dataframe thead th {\n",
       "        text-align: right;\n",
       "    }\n",
       "</style>\n",
       "<table border=\"1\" class=\"dataframe\">\n",
       "  <thead>\n",
       "    <tr style=\"text-align: right;\">\n",
       "      <th></th>\n",
       "      <th>date</th>\n",
       "      <th>title</th>\n",
       "      <th>number</th>\n",
       "      <th>genotype</th>\n",
       "      <th>distance (pixels)</th>\n",
       "      <th>distance (µm)</th>\n",
       "    </tr>\n",
       "  </thead>\n",
       "  <tbody>\n",
       "    <tr>\n",
       "      <th>0</th>\n",
       "      <td>Results_20190321_CA3</td>\n",
       "      <td>Values_003_2_1.csv</td>\n",
       "      <td>0</td>\n",
       "      <td>KO</td>\n",
       "      <td>4</td>\n",
       "      <td>0.1</td>\n",
       "    </tr>\n",
       "    <tr>\n",
       "      <th>1</th>\n",
       "      <td>Results_20190321_CA3</td>\n",
       "      <td>Values_003_2_2.csv</td>\n",
       "      <td>0</td>\n",
       "      <td>KO</td>\n",
       "      <td>4</td>\n",
       "      <td>0.1</td>\n",
       "    </tr>\n",
       "    <tr>\n",
       "      <th>2</th>\n",
       "      <td>Results_20190321_CA3</td>\n",
       "      <td>Values_003_2_3.csv</td>\n",
       "      <td>0</td>\n",
       "      <td>KO</td>\n",
       "      <td>7</td>\n",
       "      <td>0.175</td>\n",
       "    </tr>\n",
       "    <tr>\n",
       "      <th>3</th>\n",
       "      <td>Results_20190321_CA3</td>\n",
       "      <td>Values_003_2_4.csv</td>\n",
       "      <td>0</td>\n",
       "      <td>KO</td>\n",
       "      <td>4</td>\n",
       "      <td>0.1</td>\n",
       "    </tr>\n",
       "    <tr>\n",
       "      <th>4</th>\n",
       "      <td>Results_20190321_CA3</td>\n",
       "      <td>Values_003_2_5.csv</td>\n",
       "      <td>0</td>\n",
       "      <td>KO</td>\n",
       "      <td>6</td>\n",
       "      <td>0.15</td>\n",
       "    </tr>\n",
       "  </tbody>\n",
       "</table>\n",
       "</div>"
      ],
      "text/plain": [
       "                   date               title number genotype distance (pixels)  \\\n",
       "0  Results_20190321_CA3  Values_003_2_1.csv      0       KO                 4   \n",
       "1  Results_20190321_CA3  Values_003_2_2.csv      0       KO                 4   \n",
       "2  Results_20190321_CA3  Values_003_2_3.csv      0       KO                 7   \n",
       "3  Results_20190321_CA3  Values_003_2_4.csv      0       KO                 4   \n",
       "4  Results_20190321_CA3  Values_003_2_5.csv      0       KO                 6   \n",
       "\n",
       "  distance (µm)  \n",
       "0           0.1  \n",
       "1           0.1  \n",
       "2         0.175  \n",
       "3           0.1  \n",
       "4          0.15  "
      ]
     },
     "execution_count": 8,
     "metadata": {},
     "output_type": "execute_result"
    }
   ],
   "source": [
    "pixsize=0.025\n",
    "umdistances=[]\n",
    "for i in distances:\n",
    "    if (i!=\"NaN\"):\n",
    "        umdistances=umdistances+[i*pixsize]\n",
    "    else:\n",
    "        umdistances=umdistances+[np.nan]\n",
    "output=pd.DataFrame([foldercolumn,filecolumn,profilenumbercolumn,genotype,distances,umdistances]).T\n",
    "output.columns=[\"date\",\"title\",\"number\",\"genotype\",\"distance (pixels)\",\"distance (µm)\"]\n",
    "output.to_csv(parent+\"\\\\measurements.xls\",sep=\"\\t\")\n",
    "output.head()"
   ]
  },
  {
   "cell_type": "code",
   "execution_count": 9,
   "metadata": {},
   "outputs": [],
   "source": [
    "mice=[\"_1_\",\"_2_\",\"_3_\",\"_4_\",\"_6_\",\"_7_\",\"_9_\",\"_10_\",\"_11_\",\"_12_\",\"_408_\",\"_18_\"]\n",
    "\n",
    "mouseStats=[[\"mouse\",\"mean\",\"std\",\"sem\",\"median\"]]\n",
    "\n",
    "\n",
    "stats=[]\n",
    "for m in mice:\n",
    "    stats=output[output[\"title\"].str.contains(m)]  \n",
    "    \n",
    "    mouseStats=mouseStats+[[m,\n",
    "                            stats[\"distance (µm)\"].mean(),\n",
    "                           stats[\"distance (µm)\"].std(),\n",
    "                           stats[\"distance (µm)\"].sem(),\n",
    "                           stats[\"distance (µm)\"].median()]\n",
    "                          \n",
    "                          \n",
    "                          \n",
    "                          ]\n",
    "mouseStats=pd.DataFrame(mouseStats)\n",
    "mouseStats.to_csv(parent+\"\\\\mouseStats.xls\",sep=\"\\t\", header=False,index=False)"
   ]
  },
  {
   "cell_type": "markdown",
   "metadata": {},
   "source": [
    "# Divide Dataset into WT vs KO"
   ]
  },
  {
   "cell_type": "code",
   "execution_count": 13,
   "metadata": {},
   "outputs": [
    {
     "data": {
      "image/png": "[encoded data removed]",
      "text/plain": [
       "<matplotlib.figure.Figure at 0xbb46e48>"
      ]
     },
     "metadata": {},
     "output_type": "display_data"
    }
   ],
   "source": [
    "tmp=output\n",
    "WT=tmp[output[\"genotype\"]==\"WT\"]\n",
    "KO=tmp[output[\"genotype\"]==\"KO\"]\n",
    "\n",
    "bins=np.linspace(0,0.5,13)\n",
    "fig=plt.figure()\n",
    "WT[\"distance (µm)\"].hist(color=\"black\", alpha=0.5, hatch=\"+-\", label =\"WT\", bins=bins,normed=True)\n",
    "KO[\"distance (µm)\"].hist(color=\"red\", alpha=0.4, hatch=\"/\", edgecolor=\"black\" ,label=\"KO\",bins=bins,normed=True)\n",
    "plt.title(\"genotypes\")\n",
    "plt.legend(bbox_to_anchor=(1, 1), loc=1, borderaxespad=0.)\n",
    "plt.xlabel('distance (µm)')\n",
    "plt.ylabel('Normalized Counts')\n",
    "plt.show()\n",
    "fig.savefig(parent+\"\\\\histogram_WT-KO.png\")\n",
    "fig.savefig(parent+\"\\\\cross-channel distance (µm).eps\", format='eps')\n",
    "fig.savefig(parent+\"\\\\cross-channel distance (µm).pdf\", format='pdf')"
   ]
  }
 ],
 "metadata": {
  "kernelspec": {
   "display_name": "Python 3",
   "language": "python",
   "name": "python3"
  },
  "language_info": {
   "codemirror_mode": {
    "name": "ipython",
    "version": 3
   },
   "file_extension": ".py",
   "mimetype": "text/x-python",
   "name": "python",
   "nbconvert_exporter": "python",
   "pygments_lexer": "ipython3",
   "version": "3.5.6"
  }
 },
 "nbformat": 4,
 "nbformat_minor": 2
}
