{
 "cells": [
  {
   "cell_type": "markdown",
   "metadata": {},
   "source": [
    "# Notebook to pool lineprofiles, calculate peak distance and plot Histograms"
   ]
  },
  {
   "cell_type": "code",
   "execution_count": 1,
   "metadata": {},
   "outputs": [],
   "source": [
    "import pandas as pd\n",
    "import numpy as np\n",
    "import matplotlib.pyplot as plt\n",
    "from tifffile import imsave\n",
    "from scipy import signal\n",
    "from scipy import misc\n",
    "import scipy.fftpack\n",
    "from scipy import stats\n",
    "from scipy import signal\n",
    "import os"
   ]
  },
  {
   "cell_type": "markdown",
   "metadata": {},
   "source": [
    "## Define Path and Files"
   ]
  },
  {
   "cell_type": "code",
   "execution_count": null,
   "metadata": {
    "scrolled": true
   },
   "outputs": [],
   "source": [
    "path=r\"enter folder path here\" # enter path to parent folder. data for sigle experiments is stored in subfolders, e.g. N=3 --> 3 subfolders\n",
    "\n",
    "\n",
    "folders=os.listdir(path)\n",
    "\n",
    "allfiles=[]\n",
    "folderlist=[]\n",
    "files=[]\n",
    "for i in folders:\n",
    "    \n",
    "    tmp=os.listdir(path+i)\n",
    "    for f in tmp:\n",
    "        if (\".csv\" in f)==True: \n",
    "            files=files+[f]\n",
    "            folderlist=folderlist+[i]\n",
    "allfiles=pd.DataFrame([folderlist,files]).T\n",
    "allfiles.columns=[\"folder\",\"file\"]"
   ]
  },
  {
   "cell_type": "markdown",
   "metadata": {},
   "source": [
    "# define splitting function"
   ]
  },
  {
   "cell_type": "code",
   "execution_count": 10,
   "metadata": {},
   "outputs": [],
   "source": [
    "def split(matrix,identifyer,axis):\n",
    "    splitted=matrix.filter(like=identifyer,axis=axis)\n",
    "    return splitted"
   ]
  },
  {
   "cell_type": "markdown",
   "metadata": {},
   "source": [
    "## find local maxima"
   ]
  },
  {
   "cell_type": "code",
   "execution_count": null,
   "metadata": {
    "scrolled": true
   },
   "outputs": [],
   "source": [
    "distances=[]\n",
    "foldercolumn=[]\n",
    "filecolumn=[]\n",
    "profilenumbercolumn=[]\n",
    "fused=[]\n",
    "\n",
    "counter=0\n",
    "for j in range(0,len(allfiles[\"folder\"])):\n",
    "\n",
    "    name=path+allfiles[\"folder\"]+\"\\\\\"+allfiles[\"file\"]\n",
    "    matrix=pd.read_csv(name[j])\n",
    "    matrixY=split(matrix,\"Y\",1)\n",
    "\n",
    "\n",
    "    for i in range(0,matrixY.shape[1]):    \n",
    "        trace=matrixY.T.values[i]\n",
    "        maxima=np.array(signal.argrelmax(trace))[0]\n",
    "        fig=plt.figure()\n",
    "        if (len(maxima)>1):\n",
    "            plt.scatter(maxima[0],trace[maxima[0]], s=600, c='red', marker='x')\n",
    "            plt.scatter(maxima[1],trace[maxima[1]], s=600, c='red', marker='x') \n",
    "        plt.plot(trace)\n",
    "        plt.title(name[j])\n",
    "        plt.xlabel('pixels')\n",
    "        plt.ylabel('intensity')\n",
    "        plt.show()\n",
    "        \n",
    "        parent, child = os.path.split(path.strip(\"\\\\\"))\n",
    "        newPath=parent+\"/analysis/\"+\"/singleTrace/\"\n",
    "        if (os.path.exists(newPath)==False):\n",
    "            os.makedirs(newPath)\n",
    "        fig.savefig(newPath+allfiles[\"folder\"][j]+allfiles[\"file\"][j]+str(round(i))+\".png\")\n",
    "        if (len(maxima)>1):\n",
    "            zwerg=maxima[1]-maxima[0]\n",
    "        else:zwerg=\"NaN\"\n",
    "        distances=distances+[zwerg]\n",
    "        foldercolumn=foldercolumn+[allfiles[\"folder\"][j]]\n",
    "        filecolumn=filecolumn+[allfiles[\"file\"][j]]\n",
    "        profilenumbercolumn=profilenumbercolumn+[i]\n",
    "        fused=fused+[allfiles[\"file\"][j]+allfiles[\"folder\"][j]]\n",
    "        \n",
    "        counter=counter+1"
   ]
  },
  {
   "cell_type": "markdown",
   "metadata": {},
   "source": [
    "# Extract Genotype from Names, calculate distance in µm and assemble dataframe"
   ]
  },
  {
   "cell_type": "code",
   "execution_count": 13,
   "metadata": {},
   "outputs": [],
   "source": [
    "genotype=[]\n",
    "for i in range(0,len(distances)):\n",
    "    if (\"_3.csv20160105\" in fused[i]\n",
    "        or \"_5.csv20160105\" in fused[i]\n",
    "        or \"_7.csv20160105\" in fused[i]  \n",
    "        \n",
    "        or \"_5.csv20160107\" in fused[i]\n",
    "        or \"_7.csv20160107\" in fused[i]\n",
    "        or \"_11.csv20160107\" in fused[i]\n",
    "       \n",
    "        or \"_19.csv20160412\" in fused[i]\n",
    "        or \"_24.csv20160412\" in fused[i]\n",
    "        or \"_436.csv20160412\" in fused[i]\n",
    "       \n",
    "       ):\n",
    "        #print(fused[i])\n",
    "        genotype=genotype+[\"WT\"]\n",
    "    else:\n",
    "        genotype=genotype+[\"KO\"]\n"
   ]
  },
  {
   "cell_type": "code",
   "execution_count": 14,
   "metadata": {
    "scrolled": true
   },
   "outputs": [
    {
     "data": {
      "text/html": [
       "<div>\n",
       "<style scoped>\n",
       "    .dataframe tbody tr th:only-of-type {\n",
       "        vertical-align: middle;\n",
       "    }\n",
       "\n",
       "    .dataframe tbody tr th {\n",
       "        vertical-align: top;\n",
       "    }\n",
       "\n",
       "    .dataframe thead th {\n",
       "        text-align: right;\n",
       "    }\n",
       "</style>\n",
       "<table border=\"1\" class=\"dataframe\">\n",
       "  <thead>\n",
       "    <tr style=\"text-align: right;\">\n",
       "      <th></th>\n",
       "      <th>date</th>\n",
       "      <th>title</th>\n",
       "      <th>number</th>\n",
       "      <th>genotype</th>\n",
       "      <th>distance (pixels)</th>\n",
       "      <th>distance (µm)</th>\n",
       "    </tr>\n",
       "  </thead>\n",
       "  <tbody>\n",
       "    <tr>\n",
       "      <th>0</th>\n",
       "      <td>20160105</td>\n",
       "      <td>Values_Cav21_001_6.csv</td>\n",
       "      <td>0</td>\n",
       "      <td>KO</td>\n",
       "      <td>9</td>\n",
       "      <td>0.225</td>\n",
       "    </tr>\n",
       "    <tr>\n",
       "      <th>1</th>\n",
       "      <td>20160105</td>\n",
       "      <td>Values_Cav21_001_6.csv</td>\n",
       "      <td>1</td>\n",
       "      <td>KO</td>\n",
       "      <td>7</td>\n",
       "      <td>0.175</td>\n",
       "    </tr>\n",
       "    <tr>\n",
       "      <th>2</th>\n",
       "      <td>20160105</td>\n",
       "      <td>Values_Cav21_001_6.csv</td>\n",
       "      <td>2</td>\n",
       "      <td>KO</td>\n",
       "      <td>8</td>\n",
       "      <td>0.2</td>\n",
       "    </tr>\n",
       "    <tr>\n",
       "      <th>3</th>\n",
       "      <td>20160105</td>\n",
       "      <td>Values_Cav21_001_6.csv</td>\n",
       "      <td>3</td>\n",
       "      <td>KO</td>\n",
       "      <td>8</td>\n",
       "      <td>0.2</td>\n",
       "    </tr>\n",
       "    <tr>\n",
       "      <th>4</th>\n",
       "      <td>20160105</td>\n",
       "      <td>Values_Cav21_001_6.csv</td>\n",
       "      <td>4</td>\n",
       "      <td>KO</td>\n",
       "      <td>8</td>\n",
       "      <td>0.2</td>\n",
       "    </tr>\n",
       "  </tbody>\n",
       "</table>\n",
       "</div>"
      ],
      "text/plain": [
       "       date                   title number genotype distance (pixels)  \\\n",
       "0  20160105  Values_Cav21_001_6.csv      0       KO                 9   \n",
       "1  20160105  Values_Cav21_001_6.csv      1       KO                 7   \n",
       "2  20160105  Values_Cav21_001_6.csv      2       KO                 8   \n",
       "3  20160105  Values_Cav21_001_6.csv      3       KO                 8   \n",
       "4  20160105  Values_Cav21_001_6.csv      4       KO                 8   \n",
       "\n",
       "  distance (µm)  \n",
       "0         0.225  \n",
       "1         0.175  \n",
       "2           0.2  \n",
       "3           0.2  \n",
       "4           0.2  "
      ]
     },
     "execution_count": 14,
     "metadata": {},
     "output_type": "execute_result"
    }
   ],
   "source": [
    "pixsize=0.025\n",
    "umdistances=[]\n",
    "for i in distances:\n",
    "    if (i!=\"NaN\"):\n",
    "        umdistances=umdistances+[i*pixsize]\n",
    "    else:\n",
    "        umdistances=umdistances+[np.nan]\n",
    "output=pd.DataFrame([foldercolumn,filecolumn,profilenumbercolumn,genotype,distances,umdistances]).T\n",
    "output.columns=[\"date\",\"title\",\"number\",\"genotype\",\"distance (pixels)\",\"distance (µm)\"]\n",
    "output.to_csv(parent+\"\\\\measurements.xls\",sep=\"\\t\")\n",
    "output.head()"
   ]
  },
  {
   "cell_type": "markdown",
   "metadata": {},
   "source": [
    "# Divide Dataset into WT vs KO"
   ]
  },
  {
   "cell_type": "code",
   "execution_count": 17,
   "metadata": {},
   "outputs": [
    {
     "data": {
      "image/png": "[encoded data removed]",
      "text/plain": [
       "<matplotlib.figure.Figure at 0x7726208>"
      ]
     },
     "metadata": {},
     "output_type": "display_data"
    }
   ],
   "source": [
    "tmp=output\n",
    "WT=tmp[output[\"genotype\"]==\"WT\"]\n",
    "KO=tmp[output[\"genotype\"]==\"KO\"]\n",
    "\n",
    "bins=np.linspace(0,0.5,13)\n",
    "fig=plt.figure()\n",
    "WT[\"distance (µm)\"].hist(color=\"black\", alpha=0.5, hatch=\"+-\", label =\"WT\", bins=bins,normed=True)\n",
    "KO[\"distance (µm)\"].hist(color=\"red\", alpha=0.4, hatch=\"/\", edgecolor=\"black\" ,label=\"KO\",bins=bins,normed=True)\n",
    "plt.title(\"genotypes\")\n",
    "plt.legend(bbox_to_anchor=(1, 1), loc=1, borderaxespad=0.)\n",
    "plt.xlabel('distance (µm)')\n",
    "plt.ylabel('Normalized Counts')\n",
    "plt.show()\n",
    "fig.savefig(parent+\"\\\\histogram_WT-KO.png\")\n",
    "fig.savefig(parent+\"\\\\cross-channel distance (µm).eps\", format='eps')\n",
    "fig.savefig(parent+\"\\\\cross-channel distance (µm).pdf\", format='pdf')"
   ]
  }
 ],
 "metadata": {
  "kernelspec": {
   "display_name": "Python 3",
   "language": "python",
   "name": "python3"
  },
  "language_info": {
   "codemirror_mode": {
    "name": "ipython",
    "version": 3
   },
   "file_extension": ".py",
   "mimetype": "text/x-python",
   "name": "python",
   "nbconvert_exporter": "python",
   "pygments_lexer": "ipython3",
   "version": "3.5.6"
  }
 },
 "nbformat": 4,
 "nbformat_minor": 2
}
